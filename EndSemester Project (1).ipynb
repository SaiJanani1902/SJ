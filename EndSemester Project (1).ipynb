{
 "cells": [
  {
   "cell_type": "code",
   "execution_count": 1,
   "id": "9130d1df",
   "metadata": {},
   "outputs": [
    {
     "name": "stdout",
     "output_type": "stream",
     "text": [
      "Requirement already satisfied: speechrecognition in c:\\users\\saija\\anaconda3\\lib\\site-packages (3.8.1)\n",
      "Note: you may need to restart the kernel to use updated packages.\n"
     ]
    }
   ],
   "source": [
    "pip install speechrecognition"
   ]
  },
  {
   "cell_type": "code",
   "execution_count": 2,
   "id": "c97029c5",
   "metadata": {},
   "outputs": [
    {
     "name": "stdout",
     "output_type": "stream",
     "text": [
      "Requirement already satisfied: pyaudio in c:\\users\\saija\\anaconda3\\lib\\site-packages (0.2.12)\n",
      "Note: you may need to restart the kernel to use updated packages.\n"
     ]
    }
   ],
   "source": [
    "pip install pyaudio"
   ]
  },
  {
   "cell_type": "code",
   "execution_count": 3,
   "id": "a5da7290",
   "metadata": {},
   "outputs": [
    {
     "name": "stdout",
     "output_type": "stream",
     "text": [
      "Requirement already satisfied: pyttsx3 in c:\\users\\saija\\anaconda3\\lib\\site-packages (2.90)\n",
      "Requirement already satisfied: pypiwin32 in c:\\users\\saija\\anaconda3\\lib\\site-packages (from pyttsx3) (223)\n",
      "Requirement already satisfied: comtypes in c:\\users\\saija\\anaconda3\\lib\\site-packages (from pyttsx3) (1.1.10)\n",
      "Requirement already satisfied: pywin32 in c:\\users\\saija\\anaconda3\\lib\\site-packages (from pyttsx3) (302)\n",
      "Note: you may need to restart the kernel to use updated packages.\n"
     ]
    }
   ],
   "source": [
    "pip install pyttsx3"
   ]
  },
  {
   "cell_type": "code",
   "execution_count": 4,
   "id": "3fb32dff",
   "metadata": {},
   "outputs": [
    {
     "name": "stdout",
     "output_type": "stream",
     "text": [
      "Requirement already satisfied: playsound in c:\\users\\saija\\anaconda3\\lib\\site-packages (1.3.0)\n",
      "Note: you may need to restart the kernel to use updated packages.\n"
     ]
    }
   ],
   "source": [
    "pip install playsound"
   ]
  },
  {
   "cell_type": "code",
   "execution_count": 5,
   "id": "404dcff0",
   "metadata": {},
   "outputs": [
    {
     "name": "stdout",
     "output_type": "stream",
     "text": [
      "Requirement already satisfied: wikipedia in c:\\users\\saija\\anaconda3\\lib\\site-packages (1.4.0)\n",
      "Requirement already satisfied: requests<3.0.0,>=2.0.0 in c:\\users\\saija\\anaconda3\\lib\\site-packages (from wikipedia) (2.28.1)\n",
      "Requirement already satisfied: beautifulsoup4 in c:\\users\\saija\\anaconda3\\lib\\site-packages (from wikipedia) (4.11.1)\n",
      "Requirement already satisfied: certifi>=2017.4.17 in c:\\users\\saija\\anaconda3\\lib\\site-packages (from requests<3.0.0,>=2.0.0->wikipedia) (2022.9.24)\n",
      "Requirement already satisfied: idna<4,>=2.5 in c:\\users\\saija\\anaconda3\\lib\\site-packages (from requests<3.0.0,>=2.0.0->wikipedia) (3.3)\n",
      "Requirement already satisfied: charset-normalizer<3,>=2 in c:\\users\\saija\\anaconda3\\lib\\site-packages (from requests<3.0.0,>=2.0.0->wikipedia) (2.0.4)\n",
      "Requirement already satisfied: urllib3<1.27,>=1.21.1 in c:\\users\\saija\\anaconda3\\lib\\site-packages (from requests<3.0.0,>=2.0.0->wikipedia) (1.26.11)\n",
      "Requirement already satisfied: soupsieve>1.2 in c:\\users\\saija\\anaconda3\\lib\\site-packages (from beautifulsoup4->wikipedia) (2.3.1)\n",
      "Note: you may need to restart the kernel to use updated packages.\n"
     ]
    }
   ],
   "source": [
    "pip install wikipedia"
   ]
  },
  {
   "cell_type": "code",
   "execution_count": 6,
   "id": "6f16fced",
   "metadata": {},
   "outputs": [
    {
     "name": "stdout",
     "output_type": "stream",
     "text": [
      "Requirement already satisfied: gTTS in c:\\users\\saija\\anaconda3\\lib\\site-packages (2.2.4)\n",
      "Requirement already satisfied: six in c:\\users\\saija\\anaconda3\\lib\\site-packages (from gTTS) (1.16.0)\n",
      "Requirement already satisfied: requests in c:\\users\\saija\\anaconda3\\lib\\site-packages (from gTTS) (2.28.1)\n",
      "Requirement already satisfied: click in c:\\users\\saija\\anaconda3\\lib\\site-packages (from gTTS) (8.0.4)\n",
      "Requirement already satisfied: colorama in c:\\users\\saija\\anaconda3\\lib\\site-packages (from click->gTTS) (0.4.5)\n",
      "Requirement already satisfied: certifi>=2017.4.17 in c:\\users\\saija\\anaconda3\\lib\\site-packages (from requests->gTTS) (2022.9.24)\n",
      "Requirement already satisfied: charset-normalizer<3,>=2 in c:\\users\\saija\\anaconda3\\lib\\site-packages (from requests->gTTS) (2.0.4)\n",
      "Requirement already satisfied: idna<4,>=2.5 in c:\\users\\saija\\anaconda3\\lib\\site-packages (from requests->gTTS) (3.3)\n",
      "Requirement already satisfied: urllib3<1.27,>=1.21.1 in c:\\users\\saija\\anaconda3\\lib\\site-packages (from requests->gTTS) (1.26.11)\n",
      "Note: you may need to restart the kernel to use updated packages.\n"
     ]
    }
   ],
   "source": [
    "pip install gTTS"
   ]
  },
  {
   "cell_type": "code",
   "execution_count": 7,
   "id": "3af59723",
   "metadata": {},
   "outputs": [
    {
     "name": "stdout",
     "output_type": "stream",
     "text": [
      "Requirement already satisfied: wolframalpha in c:\\users\\saija\\anaconda3\\lib\\site-packages (5.0.0)\n",
      "Requirement already satisfied: jaraco.context in c:\\users\\saija\\anaconda3\\lib\\site-packages (from wolframalpha) (4.1.2)\n",
      "Requirement already satisfied: more-itertools in c:\\users\\saija\\anaconda3\\lib\\site-packages (from wolframalpha) (9.0.0)\n",
      "Requirement already satisfied: xmltodict in c:\\users\\saija\\anaconda3\\lib\\site-packages (from wolframalpha) (0.13.0)\n",
      "Note: you may need to restart the kernel to use updated packages.\n"
     ]
    }
   ],
   "source": [
    "pip install wolframalpha"
   ]
  },
  {
   "cell_type": "code",
   "execution_count": 8,
   "id": "e852183c",
   "metadata": {},
   "outputs": [
    {
     "name": "stdout",
     "output_type": "stream",
     "text": [
      "Requirement already satisfied: selenium in c:\\users\\saija\\anaconda3\\lib\\site-packages (4.6.0)\n",
      "Requirement already satisfied: trio-websocket~=0.9 in c:\\users\\saija\\anaconda3\\lib\\site-packages (from selenium) (0.9.2)\n",
      "Requirement already satisfied: trio~=0.17 in c:\\users\\saija\\anaconda3\\lib\\site-packages (from selenium) (0.22.0)\n",
      "Requirement already satisfied: certifi>=2021.10.8 in c:\\users\\saija\\anaconda3\\lib\\site-packages (from selenium) (2022.9.24)\n",
      "Requirement already satisfied: urllib3[socks]~=1.26 in c:\\users\\saija\\anaconda3\\lib\\site-packages (from selenium) (1.26.11)\n",
      "Requirement already satisfied: exceptiongroup>=1.0.0rc9 in c:\\users\\saija\\anaconda3\\lib\\site-packages (from trio~=0.17->selenium) (1.0.1)\n",
      "Requirement already satisfied: sortedcontainers in c:\\users\\saija\\anaconda3\\lib\\site-packages (from trio~=0.17->selenium) (2.4.0)\n",
      "Requirement already satisfied: async-generator>=1.9 in c:\\users\\saija\\anaconda3\\lib\\site-packages (from trio~=0.17->selenium) (1.10)\n",
      "Requirement already satisfied: sniffio in c:\\users\\saija\\anaconda3\\lib\\site-packages (from trio~=0.17->selenium) (1.2.0)\n",
      "Requirement already satisfied: outcome in c:\\users\\saija\\anaconda3\\lib\\site-packages (from trio~=0.17->selenium) (1.2.0)\n",
      "Requirement already satisfied: cffi>=1.14 in c:\\users\\saija\\anaconda3\\lib\\site-packages (from trio~=0.17->selenium) (1.15.1)\n",
      "Requirement already satisfied: idna in c:\\users\\saija\\anaconda3\\lib\\site-packages (from trio~=0.17->selenium) (3.3)\n",
      "Requirement already satisfied: attrs>=19.2.0 in c:\\users\\saija\\anaconda3\\lib\\site-packages (from trio~=0.17->selenium) (21.4.0)\n",
      "Requirement already satisfied: wsproto>=0.14 in c:\\users\\saija\\anaconda3\\lib\\site-packages (from trio-websocket~=0.9->selenium) (1.2.0)\n",
      "Requirement already satisfied: PySocks!=1.5.7,<2.0,>=1.5.6 in c:\\users\\saija\\anaconda3\\lib\\site-packages (from urllib3[socks]~=1.26->selenium) (1.7.1)\n",
      "Requirement already satisfied: pycparser in c:\\users\\saija\\anaconda3\\lib\\site-packages (from cffi>=1.14->trio~=0.17->selenium) (2.21)\n",
      "Requirement already satisfied: h11<1,>=0.9.0 in c:\\users\\saija\\anaconda3\\lib\\site-packages (from wsproto>=0.14->trio-websocket~=0.9->selenium) (0.14.0)\n",
      "Note: you may need to restart the kernel to use updated packages.\n"
     ]
    }
   ],
   "source": [
    "pip install selenium"
   ]
  },
  {
   "cell_type": "code",
   "execution_count": 9,
   "id": "7a33f191",
   "metadata": {},
   "outputs": [
    {
     "name": "stdout",
     "output_type": "stream",
     "text": [
      "Collecting playsound==1.2.2\n",
      "  Downloading playsound-1.2.2-py2.py3-none-any.whl (6.0 kB)\n",
      "Installing collected packages: playsound\n",
      "  Attempting uninstall: playsound\n",
      "    Found existing installation: playsound 1.3.0\n",
      "    Uninstalling playsound-1.3.0:\n",
      "      Successfully uninstalled playsound-1.3.0\n",
      "Successfully installed playsound-1.2.2\n",
      "Note: you may need to restart the kernel to use updated packages.\n"
     ]
    }
   ],
   "source": [
    "pip install playsound==1.2.2"
   ]
  },
  {
   "cell_type": "code",
   "execution_count": 12,
   "id": "63139282",
   "metadata": {},
   "outputs": [
    {
     "name": "stdout",
     "output_type": "stream",
     "text": [
      "Requirement already satisfied: ipython in c:\\users\\saija\\anaconda3\\lib\\site-packages (8.4.0)\n",
      "Requirement already satisfied: jedi>=0.16 in c:\\users\\saija\\anaconda3\\lib\\site-packages (from ipython) (0.18.1)\n",
      "Requirement already satisfied: backcall in c:\\users\\saija\\anaconda3\\lib\\site-packages (from ipython) (0.2.0)\n",
      "Requirement already satisfied: matplotlib-inline in c:\\users\\saija\\anaconda3\\lib\\site-packages (from ipython) (0.1.6)\n",
      "Requirement already satisfied: pygments>=2.4.0 in c:\\users\\saija\\anaconda3\\lib\\site-packages (from ipython) (2.11.2)\n",
      "Requirement already satisfied: colorama in c:\\users\\saija\\anaconda3\\lib\\site-packages (from ipython) (0.4.5)\n",
      "Requirement already satisfied: stack-data in c:\\users\\saija\\anaconda3\\lib\\site-packages (from ipython) (0.2.0)\n",
      "Requirement already satisfied: prompt-toolkit!=3.0.0,!=3.0.1,<3.1.0,>=2.0.0 in c:\\users\\saija\\anaconda3\\lib\\site-packages (from ipython) (3.0.20)\n",
      "Requirement already satisfied: pickleshare in c:\\users\\saija\\anaconda3\\lib\\site-packages (from ipython) (0.7.5)\n",
      "Requirement already satisfied: traitlets>=5 in c:\\users\\saija\\anaconda3\\lib\\site-packages (from ipython) (5.1.1)\n",
      "Requirement already satisfied: setuptools>=18.5 in c:\\users\\saija\\anaconda3\\lib\\site-packages (from ipython) (63.4.1)\n",
      "Requirement already satisfied: decorator in c:\\users\\saija\\anaconda3\\lib\\site-packages (from ipython) (5.1.1)\n",
      "Requirement already satisfied: parso<0.9.0,>=0.8.0 in c:\\users\\saija\\anaconda3\\lib\\site-packages (from jedi>=0.16->ipython) (0.8.3)\n",
      "Requirement already satisfied: wcwidth in c:\\users\\saija\\anaconda3\\lib\\site-packages (from prompt-toolkit!=3.0.0,!=3.0.1,<3.1.0,>=2.0.0->ipython) (0.2.5)\n",
      "Requirement already satisfied: asttokens in c:\\users\\saija\\anaconda3\\lib\\site-packages (from stack-data->ipython) (2.0.5)\n",
      "Requirement already satisfied: pure-eval in c:\\users\\saija\\anaconda3\\lib\\site-packages (from stack-data->ipython) (0.2.2)\n",
      "Requirement already satisfied: executing in c:\\users\\saija\\anaconda3\\lib\\site-packages (from stack-data->ipython) (0.8.3)\n",
      "Requirement already satisfied: six in c:\\users\\saija\\anaconda3\\lib\\site-packages (from asttokens->stack-data->ipython) (1.16.0)\n",
      "Note: you may need to restart the kernel to use updated packages.\n"
     ]
    }
   ],
   "source": [
    "pip install ipython"
   ]
  },
  {
   "cell_type": "code",
   "execution_count": 13,
   "id": "17e9a470",
   "metadata": {},
   "outputs": [
    {
     "name": "stdout",
     "output_type": "stream",
     "text": [
      "Requirement already satisfied: nbconvert in c:\\users\\saija\\anaconda3\\lib\\site-packages (6.4.4)\n",
      "Requirement already satisfied: pygments>=2.4.1 in c:\\users\\saija\\anaconda3\\lib\\site-packages (from nbconvert) (2.11.2)\n",
      "Requirement already satisfied: nbclient<0.6.0,>=0.5.0 in c:\\users\\saija\\anaconda3\\lib\\site-packages (from nbconvert) (0.5.13)\n",
      "Requirement already satisfied: traitlets>=5.0 in c:\\users\\saija\\anaconda3\\lib\\site-packages (from nbconvert) (5.1.1)\n",
      "Requirement already satisfied: entrypoints>=0.2.2 in c:\\users\\saija\\anaconda3\\lib\\site-packages (from nbconvert) (0.4)\n",
      "Requirement already satisfied: jupyterlab-pygments in c:\\users\\saija\\anaconda3\\lib\\site-packages (from nbconvert) (0.1.2)\n",
      "Requirement already satisfied: bleach in c:\\users\\saija\\anaconda3\\lib\\site-packages (from nbconvert) (4.1.0)\n",
      "Requirement already satisfied: defusedxml in c:\\users\\saija\\anaconda3\\lib\\site-packages (from nbconvert) (0.7.1)\n",
      "Requirement already satisfied: pandocfilters>=1.4.1 in c:\\users\\saija\\anaconda3\\lib\\site-packages (from nbconvert) (1.5.0)\n",
      "Requirement already satisfied: nbformat>=4.4 in c:\\users\\saija\\anaconda3\\lib\\site-packages (from nbconvert) (5.5.0)\n",
      "Requirement already satisfied: testpath in c:\\users\\saija\\anaconda3\\lib\\site-packages (from nbconvert) (0.6.0)\n",
      "Requirement already satisfied: jupyter-core in c:\\users\\saija\\anaconda3\\lib\\site-packages (from nbconvert) (4.11.1)\n",
      "Requirement already satisfied: jinja2>=2.4 in c:\\users\\saija\\anaconda3\\lib\\site-packages (from nbconvert) (2.11.3)\n",
      "Requirement already satisfied: mistune<2,>=0.8.1 in c:\\users\\saija\\anaconda3\\lib\\site-packages (from nbconvert) (0.8.4)\n",
      "Requirement already satisfied: beautifulsoup4 in c:\\users\\saija\\anaconda3\\lib\\site-packages (from nbconvert) (4.11.1)\n",
      "Requirement already satisfied: MarkupSafe>=0.23 in c:\\users\\saija\\anaconda3\\lib\\site-packages (from jinja2>=2.4->nbconvert) (2.0.1)\n",
      "Requirement already satisfied: nest-asyncio in c:\\users\\saija\\anaconda3\\lib\\site-packages (from nbclient<0.6.0,>=0.5.0->nbconvert) (1.5.5)\n",
      "Requirement already satisfied: jupyter-client>=6.1.5 in c:\\users\\saija\\anaconda3\\lib\\site-packages (from nbclient<0.6.0,>=0.5.0->nbconvert) (6.1.12)\n",
      "Requirement already satisfied: jsonschema>=2.6 in c:\\users\\saija\\anaconda3\\lib\\site-packages (from nbformat>=4.4->nbconvert) (4.16.0)\n",
      "Requirement already satisfied: fastjsonschema in c:\\users\\saija\\anaconda3\\lib\\site-packages (from nbformat>=4.4->nbconvert) (2.16.2)\n",
      "Requirement already satisfied: soupsieve>1.2 in c:\\users\\saija\\anaconda3\\lib\\site-packages (from beautifulsoup4->nbconvert) (2.3.1)\n",
      "Requirement already satisfied: packaging in c:\\users\\saija\\anaconda3\\lib\\site-packages (from bleach->nbconvert) (21.3)\n",
      "Requirement already satisfied: webencodings in c:\\users\\saija\\anaconda3\\lib\\site-packages (from bleach->nbconvert) (0.5.1)\n",
      "Requirement already satisfied: six>=1.9.0 in c:\\users\\saija\\anaconda3\\lib\\site-packages (from bleach->nbconvert) (1.16.0)\n",
      "Requirement already satisfied: pywin32>=1.0 in c:\\users\\saija\\anaconda3\\lib\\site-packages (from jupyter-core->nbconvert) (302)\n",
      "Requirement already satisfied: attrs>=17.4.0 in c:\\users\\saija\\anaconda3\\lib\\site-packages (from jsonschema>=2.6->nbformat>=4.4->nbconvert) (21.4.0)\n",
      "Requirement already satisfied: pyrsistent!=0.17.0,!=0.17.1,!=0.17.2,>=0.14.0 in c:\\users\\saija\\anaconda3\\lib\\site-packages (from jsonschema>=2.6->nbformat>=4.4->nbconvert) (0.18.0)\n",
      "Requirement already satisfied: python-dateutil>=2.1 in c:\\users\\saija\\anaconda3\\lib\\site-packages (from jupyter-client>=6.1.5->nbclient<0.6.0,>=0.5.0->nbconvert) (2.8.2)\n",
      "Requirement already satisfied: pyzmq>=13 in c:\\users\\saija\\anaconda3\\lib\\site-packages (from jupyter-client>=6.1.5->nbclient<0.6.0,>=0.5.0->nbconvert) (23.2.0)\n",
      "Requirement already satisfied: tornado>=4.1 in c:\\users\\saija\\anaconda3\\lib\\site-packages (from jupyter-client>=6.1.5->nbclient<0.6.0,>=0.5.0->nbconvert) (6.1)\n",
      "Requirement already satisfied: pyparsing!=3.0.5,>=2.0.2 in c:\\users\\saija\\anaconda3\\lib\\site-packages (from packaging->bleach->nbconvert) (3.0.9)\n",
      "Note: you may need to restart the kernel to use updated packages.\n"
     ]
    }
   ],
   "source": [
    "pip install nbconvert"
   ]
  },
  {
   "cell_type": "code",
   "execution_count": 14,
   "id": "8e7422a7",
   "metadata": {},
   "outputs": [
    {
     "name": "stdout",
     "output_type": "stream",
     "text": [
      "Collecting pyinstallerNote: you may need to restart the kernel to use updated packages.\n",
      "\n",
      "  Downloading pyinstaller-5.6.2-py3-none-win_amd64.whl (1.2 MB)\n",
      "     ---------------------------------------- 1.2/1.2 MB 2.2 MB/s eta 0:00:00\n",
      "Collecting altgraph\n",
      "  Downloading altgraph-0.17.3-py2.py3-none-any.whl (21 kB)\n",
      "Collecting pefile>=2022.5.30\n",
      "  Downloading pefile-2022.5.30.tar.gz (72 kB)\n",
      "     ---------------------------------------- 72.9/72.9 kB 2.0 MB/s eta 0:00:00\n",
      "  Preparing metadata (setup.py): started\n",
      "  Preparing metadata (setup.py): finished with status 'done'\n",
      "Collecting pyinstaller-hooks-contrib>=2021.4\n",
      "  Downloading pyinstaller_hooks_contrib-2022.11-py2.py3-none-any.whl (248 kB)\n",
      "     -------------------------------------- 248.5/248.5 kB 2.6 MB/s eta 0:00:00\n",
      "Requirement already satisfied: pywin32-ctypes>=0.2.0 in c:\\users\\saija\\anaconda3\\lib\\site-packages (from pyinstaller) (0.2.0)\n",
      "Requirement already satisfied: setuptools in c:\\users\\saija\\anaconda3\\lib\\site-packages (from pyinstaller) (63.4.1)\n",
      "Requirement already satisfied: future in c:\\users\\saija\\anaconda3\\lib\\site-packages (from pefile>=2022.5.30->pyinstaller) (0.18.2)\n",
      "Building wheels for collected packages: pefile\n",
      "  Building wheel for pefile (setup.py): started\n",
      "  Building wheel for pefile (setup.py): finished with status 'done'\n",
      "  Created wheel for pefile: filename=pefile-2022.5.30-py3-none-any.whl size=69362 sha256=9efdfcd0bb2fb030481fba28c9e931638626d375b2dfcedab46f7cfe8d4f0b92\n",
      "  Stored in directory: c:\\users\\saija\\appdata\\local\\pip\\cache\\wheels\\f1\\fe\\01\\5536332fc49e010786c52886ac14f72073dd65fed3c3d8945c\n",
      "Successfully built pefile\n",
      "Installing collected packages: altgraph, pyinstaller-hooks-contrib, pefile, pyinstaller\n",
      "Successfully installed altgraph-0.17.3 pefile-2022.5.30 pyinstaller-5.6.2 pyinstaller-hooks-contrib-2022.11\n"
     ]
    }
   ],
   "source": [
    "pip install pyinstaller"
   ]
  },
  {
   "cell_type": "code",
   "execution_count": 13,
   "id": "4f44bcee",
   "metadata": {},
   "outputs": [
    {
     "name": "stdout",
     "output_type": "stream",
     "text": [
      "Collecting ecapture\n",
      "  Downloading ecapture-2.0.2-py3-none-any.whl (17 kB)\n",
      "Collecting opencv-python\n",
      "  Downloading opencv_python-4.6.0.66-cp36-abi3-win_amd64.whl (35.6 MB)\n",
      "     ---------------------------------------- 35.6/35.6 MB 2.4 MB/s eta 0:00:00\n",
      "Requirement already satisfied: numpy>=1.19.3 in c:\\users\\saija\\anaconda3\\lib\\site-packages (from opencv-python->ecapture) (1.21.5)\n",
      "Installing collected packages: opencv-python, ecapture\n",
      "Successfully installed ecapture-2.0.2 opencv-python-4.6.0.66\n",
      "Note: you may need to restart the kernel to use updated packages.\n"
     ]
    }
   ],
   "source": [
    "pip install ecapture"
   ]
  },
  {
   "cell_type": "code",
   "execution_count": 1,
   "id": "19d30375",
   "metadata": {
    "scrolled": false
   },
   "outputs": [
    {
     "name": "stdout",
     "output_type": "stream",
     "text": [
      "Hi, I am Minchu your personal desktop assistant\n",
      "How can I help you?\n",
      "Your question is, weather\n",
      "The answer is temperature | 28 °C (heat index: 32 °C)\n",
      "conditions | fog, partly cloudy\n",
      "relative humidity | 79% (dew point: 24 °C)\n",
      "wind speed | 4.1 m/s\n",
      "(24 minutes ago)\n",
      "How can I help you?\n",
      "Your question is, bye\n",
      "Ok bye and take care\n"
     ]
    }
   ],
   "source": [
    "import speech_recognition as sr #convert speech to text\n",
    "import datetime #for fetching date and time\n",
    "import webbrowser\n",
    "import subprocess\n",
    "import requests\n",
    "import wikipedia\n",
    "import playsound # to play saved mp3 file \n",
    "from gtts import gTTS# google text to speech \n",
    "import os # to save/open files \n",
    "import wolframalpha # to calculate strings into formula\n",
    "from selenium import webdriver\n",
    "from ecapture import ecapture as ec\n",
    "import smtplib\n",
    "import bluetooth\n",
    "\n",
    "\n",
    "def talk():\n",
    "    input=sr.Recognizer()\n",
    "    with sr.Microphone() as source:\n",
    "        audio=input.listen(source)\n",
    "        data=\"\"\n",
    "        try:\n",
    "            data=input.recognize_google(audio)\n",
    "            print(\"Your question is, \" + data)\n",
    "            \n",
    "        except sr.UnknownValueError:\n",
    "            print(\"Sorry I did not hear your question, Please repeat again.\")\n",
    "    return data\n",
    "\n",
    "def respond(output):\n",
    "    num=0\n",
    "    print(output)\n",
    "    num += 1\n",
    "    response=gTTS(text=output, lang='en')\n",
    "    file = str(num)+\".mp3\"\n",
    "    response.save(file)\n",
    "    playsound.playsound(file, True)\n",
    "    os.remove(file)\n",
    "    \n",
    "if __name__=='__main__':\n",
    "    respond(\"Hi, I am Minchu your personal desktop assistant\")\n",
    "          \n",
    "    while(1):\n",
    "        respond(\"How can I help you?\")\n",
    "        text=talk().lower()\n",
    "        \n",
    "        if text==0:\n",
    "            continue\n",
    "            \n",
    "        if \"stop\" in str(text) or \"exit\" in str(text) or \"bye\" in str(text):\n",
    "            respond(\"Ok bye and take care\")\n",
    "            break\n",
    "            \n",
    "        if 'wikipedia' in text:\n",
    "            respond('Searching Wikipedia')\n",
    "            text =text.replace(\"in wikipedia\", \"\")\n",
    "            results = wikipedia.summary(text, sentences=3)\n",
    "            respond(\"According to Wikipedia\")\n",
    "            print(results)\n",
    "            respond(results)\n",
    "                  \n",
    "        elif 'time' in text:\n",
    "            strTime=datetime.datetime.now().strftime(\"%H:%M:%S\")\n",
    "            respond(f\"the time is {strTime}\")     \n",
    "    \n",
    "            \n",
    "        elif 'who are you' in text or 'what can you do' in text:\n",
    "            respond('I am Minchu, your personal desktop assistant. I can fetch information for you, perform mathematical calculations, take photo, open applications.')\n",
    "\n",
    "    \n",
    "            \n",
    "        elif \"who made you\" in text or \"who created you\" in text or \"who discovered you\" in text:\n",
    "            speak(\"I was built by Sai Janani\")\n",
    "            print(\"I was built by Sai Janani\")\n",
    "            \n",
    "        elif \"camera\" in text or \"take a photo\" in text:\n",
    "            ec.capture(0,\"robo camera\",\"img.jpg\")\n",
    "        \n",
    "        \n",
    "            \n",
    "        elif 'open google' in text:\n",
    "            webbrowser.open_new_tab(\"https://www.google.com\")\n",
    "            respond(\"Google is open\")\n",
    "            time.sleep(5)\n",
    "            \n",
    "        elif \"search for\" in text and 'youtube' not in text:  \n",
    "            text = text.replace('search for', \"\")\n",
    "            url = (f\"https://google.com/search?q=\"+text ) \n",
    "            webbrowser.get().open(url)  \n",
    "            respond(f'Here is what I found for {text} on google')\n",
    "            \n",
    "        elif 'youtube' in text or 'Youtube' in text: \n",
    "            driver = webbrowser.open_new_tab(r\"https://www.youtube.com/\") \n",
    "            respond(\"Opening in youtube\") \n",
    "            indx = text.split().index('youtube') \n",
    "            query = text.split()[indx + 1:] \n",
    "            driver.get(\"http://www.youtube.com/results?search_query =\" + '+'.join(query)) \n",
    "            \n",
    "        elif 'Bluetooth'in text or 'bluetooth'in text:\n",
    "            devices = bluetooth.discover_devices(lookup_names=True)\n",
    "            print(type(devices))\n",
    "            print(\"Devices found: %s\" % len(devices))\n",
    "            for item in devices:\n",
    "                print(item)\n",
    "            \n",
    "                \n",
    "        elif 'open gmail' in text:\n",
    "            webbrowser.open_new_tab(\"https://www.gmail.com\")\n",
    "            respond(\"Gmail is open\")\n",
    "            time.sleep(5)\n",
    "                \n",
    "        elif \"shut down\" in text or 'shtdown' in text:\n",
    "            respond(\"Ok , your system will shut down in 10 secs\")\n",
    "            subprocess.call([\"shutdown\", \"/l\"])        \n",
    "        \n",
    "                \n",
    "        elif \"open word\" in text: \n",
    "            respond(\"Opening Microsoft Word\") \n",
    "            os.startfile('\"C:/Program Files/Microsoft Office/root/Office16/WINWORD.EXE\"')\n",
    "            \n",
    "        elif 'mail' in text:\n",
    "            content=\"HelloWorld this is the sample of smtp\"\n",
    "            mail=smtplib.SMTP('smtp.gmail.com',587)\n",
    "            mail.ehlo()\n",
    "            mail.starttls()\n",
    "            sender='124015079@sastra.ac.in'\n",
    "            recipient='saijananiashogan@gmail.com'\n",
    "            mail.login('124015079@sastra.ac.in','snetjuubpqhpbsbn')\n",
    "            header='To:'+recipient+''+'From:'+sender+''+'subject:'+'testmail'\n",
    "            content=header+content\n",
    "            mail.sendmail(sender,recipient, content)\n",
    "            mail.close()\n",
    "            respond(\"simple mail transfer protocol is executed\")\n",
    "        \n",
    "            \n",
    "        elif \"calculate\" or \"what is\" in text: \n",
    "            text=text.replace(\"calculate\",\"\")\n",
    "            text=text.replace(\"what is\",\"\")\n",
    "            app_id=\"XWK36X-W9EVPE2JG9\"\n",
    "            client = wolframalpha.Client(app_id)\n",
    "            res = client.query(text)\n",
    "            answer = next(res.results).text\n",
    "            respond(\"The answer is \" + answer)\n",
    "            \n",
    "    \n",
    "        else:\n",
    "            respond(\"Application not available\")  "
   ]
  },
  {
   "cell_type": "code",
   "execution_count": null,
   "id": "6f9179ae",
   "metadata": {},
   "outputs": [],
   "source": []
  },
  {
   "cell_type": "code",
   "execution_count": null,
   "id": "98b60579",
   "metadata": {},
   "outputs": [],
   "source": []
  }
 ],
 "metadata": {
  "kernelspec": {
   "display_name": "Python 3 (ipykernel)",
   "language": "python",
   "name": "python3"
  },
  "language_info": {
   "codemirror_mode": {
    "name": "ipython",
    "version": 3
   },
   "file_extension": ".py",
   "mimetype": "text/x-python",
   "name": "python",
   "nbconvert_exporter": "python",
   "pygments_lexer": "ipython3",
   "version": "3.9.13"
  }
 },
 "nbformat": 4,
 "nbformat_minor": 5
}
